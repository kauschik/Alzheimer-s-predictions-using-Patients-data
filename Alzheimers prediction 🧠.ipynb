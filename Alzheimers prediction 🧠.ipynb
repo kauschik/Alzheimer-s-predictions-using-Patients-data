{
 "cells": [
  {
   "cell_type": "code",
   "execution_count": null,
   "id": "f278fd30",
   "metadata": {},
   "outputs": [],
   "source": []
  },
  {
   "cell_type": "markdown",
   "id": "da108132",
   "metadata": {},
   "source": [
    "# Alzheimer's Prediction\n",
    "------------------------------------------------------------------------------------------------------------------------\n",
    "#### ***Final project for partial fulfilment of course Data Science at SCDE of Jawaharlal Nehru Technological University Hyderabad.***\n",
    "________________________________________________________________________________________________________________________\n",
    "\n",
    "\n",
    "Project by: ***yourname***\n",
    "\n",
    "E-Mail:  ***email@domain.com***\n",
    "\n",
    "Project Report: (report link)\n"
   ]
  },
  {
   "cell_type": "code",
   "execution_count": 1,
   "id": "132f8910",
   "metadata": {},
   "outputs": [],
   "source": [
    "# pip install sklearn"
   ]
  },
  {
   "cell_type": "code",
   "execution_count": 2,
   "id": "1478059b",
   "metadata": {},
   "outputs": [],
   "source": [
    "#importing libraries\n",
    "import numpy as np\n",
    "import sklearn as sk\n",
    "import pandas as pd\n",
    "import os"
   ]
  },
  {
   "cell_type": "code",
   "execution_count": 3,
   "id": "1ffbb91b",
   "metadata": {},
   "outputs": [
    {
     "data": {
      "text/plain": [
       "directory.id               0\n",
       "Subject                    0\n",
       "RID                        0\n",
       "Image.Data.ID              0\n",
       "Modality                   0\n",
       "Visit                      0\n",
       "Acq.Date                   0\n",
       "DX.bl                      0\n",
       "EXAMDATE                   0\n",
       "AGE                        0\n",
       "PTGENDER                   0\n",
       "PTEDUCAT                   0\n",
       "PTETHCAT                   0\n",
       "PTRACCAT                   0\n",
       "APOE4                      0\n",
       "MMSE                       0\n",
       "imputed_genotype           1\n",
       "APOE Genotype              0\n",
       "Dx Codes for Submission    0\n",
       "dtype: int64"
      ]
     },
     "execution_count": 3,
     "metadata": {},
     "output_type": "execute_result"
    }
   ],
   "source": [
    "#Read data\n",
    "data = pd.read_csv('Alzheimer’s Patient data.csv')\n",
    "\n",
    "#Check NA values, 1 NA for imputed_genotype\n",
    "data.isnull().sum()"
   ]
  },
  {
   "cell_type": "markdown",
   "id": "2e9ef3f7",
   "metadata": {},
   "source": [
    "### Remove NaN"
   ]
  },
  {
   "cell_type": "code",
   "execution_count": 4,
   "id": "3cd407fa",
   "metadata": {},
   "outputs": [
    {
     "data": {
      "text/plain": [
       "0"
      ]
     },
     "execution_count": 4,
     "metadata": {},
     "output_type": "execute_result"
    }
   ],
   "source": [
    "data = data.dropna()\n",
    "data.isnull().sum().sum()"
   ]
  },
  {
   "cell_type": "code",
   "execution_count": 5,
   "id": "bb047e74",
   "metadata": {},
   "outputs": [
    {
     "data": {
      "text/html": [
       "<div>\n",
       "<style scoped>\n",
       "    .dataframe tbody tr th:only-of-type {\n",
       "        vertical-align: middle;\n",
       "    }\n",
       "\n",
       "    .dataframe tbody tr th {\n",
       "        vertical-align: top;\n",
       "    }\n",
       "\n",
       "    .dataframe thead th {\n",
       "        text-align: right;\n",
       "    }\n",
       "</style>\n",
       "<table border=\"1\" class=\"dataframe\">\n",
       "  <thead>\n",
       "    <tr style=\"text-align: right;\">\n",
       "      <th></th>\n",
       "      <th>directory.id</th>\n",
       "      <th>Subject</th>\n",
       "      <th>RID</th>\n",
       "      <th>Image.Data.ID</th>\n",
       "      <th>Modality</th>\n",
       "      <th>Visit</th>\n",
       "      <th>Acq.Date</th>\n",
       "      <th>DX.bl</th>\n",
       "      <th>EXAMDATE</th>\n",
       "      <th>AGE</th>\n",
       "      <th>PTGENDER</th>\n",
       "      <th>PTEDUCAT</th>\n",
       "      <th>PTETHCAT</th>\n",
       "      <th>PTRACCAT</th>\n",
       "      <th>APOE4</th>\n",
       "      <th>MMSE</th>\n",
       "      <th>imputed_genotype</th>\n",
       "      <th>APOE Genotype</th>\n",
       "      <th>Dx Codes for Submission</th>\n",
       "    </tr>\n",
       "  </thead>\n",
       "  <tbody>\n",
       "    <tr>\n",
       "      <th>0</th>\n",
       "      <td>4702245ea294ce5d4e9b8a87027dfdf4</td>\n",
       "      <td>011_S_0003</td>\n",
       "      <td>3</td>\n",
       "      <td>32237</td>\n",
       "      <td>MRI</td>\n",
       "      <td>1</td>\n",
       "      <td>9/1/05</td>\n",
       "      <td>AD</td>\n",
       "      <td>9/12/05</td>\n",
       "      <td>81.3</td>\n",
       "      <td>Male</td>\n",
       "      <td>18</td>\n",
       "      <td>Not Hisp/Latino</td>\n",
       "      <td>White</td>\n",
       "      <td>1</td>\n",
       "      <td>20</td>\n",
       "      <td>True</td>\n",
       "      <td>3,4</td>\n",
       "      <td>AD</td>\n",
       "    </tr>\n",
       "    <tr>\n",
       "      <th>1</th>\n",
       "      <td>2e89e352af743597b2368c412e0f6de2</td>\n",
       "      <td>022_S_0004</td>\n",
       "      <td>4</td>\n",
       "      <td>64631</td>\n",
       "      <td>MRI</td>\n",
       "      <td>1</td>\n",
       "      <td>9/22/05</td>\n",
       "      <td>LMCI</td>\n",
       "      <td>11/8/05</td>\n",
       "      <td>67.5</td>\n",
       "      <td>Male</td>\n",
       "      <td>10</td>\n",
       "      <td>Hisp/Latino</td>\n",
       "      <td>White</td>\n",
       "      <td>0</td>\n",
       "      <td>27</td>\n",
       "      <td>False</td>\n",
       "      <td>3,3</td>\n",
       "      <td>MCI</td>\n",
       "    </tr>\n",
       "    <tr>\n",
       "      <th>2</th>\n",
       "      <td>90419199306997753de8042f1fd55e38</td>\n",
       "      <td>011_S_0005</td>\n",
       "      <td>5</td>\n",
       "      <td>32246</td>\n",
       "      <td>MRI</td>\n",
       "      <td>1</td>\n",
       "      <td>9/2/05</td>\n",
       "      <td>CN</td>\n",
       "      <td>9/7/05</td>\n",
       "      <td>73.7</td>\n",
       "      <td>Male</td>\n",
       "      <td>16</td>\n",
       "      <td>Not Hisp/Latino</td>\n",
       "      <td>White</td>\n",
       "      <td>0</td>\n",
       "      <td>29</td>\n",
       "      <td>True</td>\n",
       "      <td>3,3</td>\n",
       "      <td>CN</td>\n",
       "    </tr>\n",
       "    <tr>\n",
       "      <th>3</th>\n",
       "      <td>d8d175ffff1e2053e6a18c5df494ccdf</td>\n",
       "      <td>100_S_0006</td>\n",
       "      <td>6</td>\n",
       "      <td>33025</td>\n",
       "      <td>MRI</td>\n",
       "      <td>1</td>\n",
       "      <td>11/15/05</td>\n",
       "      <td>LMCI</td>\n",
       "      <td>11/29/05</td>\n",
       "      <td>80.4</td>\n",
       "      <td>Female</td>\n",
       "      <td>13</td>\n",
       "      <td>Not Hisp/Latino</td>\n",
       "      <td>White</td>\n",
       "      <td>0</td>\n",
       "      <td>25</td>\n",
       "      <td>True</td>\n",
       "      <td>3,3</td>\n",
       "      <td>MCI</td>\n",
       "    </tr>\n",
       "    <tr>\n",
       "      <th>4</th>\n",
       "      <td>986e75b2e604cd44b38feb2188476fb2</td>\n",
       "      <td>011_S_0010</td>\n",
       "      <td>10</td>\n",
       "      <td>32270</td>\n",
       "      <td>MRI</td>\n",
       "      <td>1</td>\n",
       "      <td>11/7/05</td>\n",
       "      <td>AD</td>\n",
       "      <td>11/10/05</td>\n",
       "      <td>73.9</td>\n",
       "      <td>Female</td>\n",
       "      <td>12</td>\n",
       "      <td>Not Hisp/Latino</td>\n",
       "      <td>White</td>\n",
       "      <td>1</td>\n",
       "      <td>24</td>\n",
       "      <td>True</td>\n",
       "      <td>3,4</td>\n",
       "      <td>AD</td>\n",
       "    </tr>\n",
       "  </tbody>\n",
       "</table>\n",
       "</div>"
      ],
      "text/plain": [
       "                       directory.id     Subject  RID  Image.Data.ID Modality  \\\n",
       "0  4702245ea294ce5d4e9b8a87027dfdf4  011_S_0003    3          32237      MRI   \n",
       "1  2e89e352af743597b2368c412e0f6de2  022_S_0004    4          64631      MRI   \n",
       "2  90419199306997753de8042f1fd55e38  011_S_0005    5          32246      MRI   \n",
       "3  d8d175ffff1e2053e6a18c5df494ccdf  100_S_0006    6          33025      MRI   \n",
       "4  986e75b2e604cd44b38feb2188476fb2  011_S_0010   10          32270      MRI   \n",
       "\n",
       "   Visit  Acq.Date DX.bl  EXAMDATE   AGE PTGENDER  PTEDUCAT         PTETHCAT  \\\n",
       "0      1    9/1/05    AD   9/12/05  81.3     Male        18  Not Hisp/Latino   \n",
       "1      1   9/22/05  LMCI   11/8/05  67.5     Male        10      Hisp/Latino   \n",
       "2      1    9/2/05    CN    9/7/05  73.7     Male        16  Not Hisp/Latino   \n",
       "3      1  11/15/05  LMCI  11/29/05  80.4   Female        13  Not Hisp/Latino   \n",
       "4      1   11/7/05    AD  11/10/05  73.9   Female        12  Not Hisp/Latino   \n",
       "\n",
       "  PTRACCAT  APOE4  MMSE imputed_genotype APOE Genotype Dx Codes for Submission  \n",
       "0    White      1    20             True           3,4                      AD  \n",
       "1    White      0    27            False           3,3                     MCI  \n",
       "2    White      0    29             True           3,3                      CN  \n",
       "3    White      0    25             True           3,3                     MCI  \n",
       "4    White      1    24             True           3,4                      AD  "
      ]
     },
     "execution_count": 5,
     "metadata": {},
     "output_type": "execute_result"
    }
   ],
   "source": [
    "#Peek at data\n",
    "data.head()"
   ]
  },
  {
   "cell_type": "markdown",
   "id": "9631b484",
   "metadata": {},
   "source": [
    "## Remove ID's and other features"
   ]
  },
  {
   "cell_type": "code",
   "execution_count": 6,
   "id": "33d74518",
   "metadata": {},
   "outputs": [
    {
     "name": "stdout",
     "output_type": "stream",
     "text": [
      "Removing columns: ['directory.id', 'Subject', 'RID', 'Image.Data.ID', 'Modality', 'Visit', 'Acq.Date', 'DX.bl', 'EXAMDATE', 'Dx Codes for Submission']\n"
     ]
    },
    {
     "data": {
      "text/html": [
       "<div>\n",
       "<style scoped>\n",
       "    .dataframe tbody tr th:only-of-type {\n",
       "        vertical-align: middle;\n",
       "    }\n",
       "\n",
       "    .dataframe tbody tr th {\n",
       "        vertical-align: top;\n",
       "    }\n",
       "\n",
       "    .dataframe thead th {\n",
       "        text-align: right;\n",
       "    }\n",
       "</style>\n",
       "<table border=\"1\" class=\"dataframe\">\n",
       "  <thead>\n",
       "    <tr style=\"text-align: right;\">\n",
       "      <th></th>\n",
       "      <th>AGE</th>\n",
       "      <th>PTGENDER</th>\n",
       "      <th>PTEDUCAT</th>\n",
       "      <th>PTETHCAT</th>\n",
       "      <th>PTRACCAT</th>\n",
       "      <th>APOE4</th>\n",
       "      <th>MMSE</th>\n",
       "      <th>imputed_genotype</th>\n",
       "      <th>APOE Genotype</th>\n",
       "    </tr>\n",
       "  </thead>\n",
       "  <tbody>\n",
       "    <tr>\n",
       "      <th>0</th>\n",
       "      <td>81.3</td>\n",
       "      <td>Male</td>\n",
       "      <td>18</td>\n",
       "      <td>Not Hisp/Latino</td>\n",
       "      <td>White</td>\n",
       "      <td>1</td>\n",
       "      <td>20</td>\n",
       "      <td>True</td>\n",
       "      <td>3,4</td>\n",
       "    </tr>\n",
       "    <tr>\n",
       "      <th>1</th>\n",
       "      <td>67.5</td>\n",
       "      <td>Male</td>\n",
       "      <td>10</td>\n",
       "      <td>Hisp/Latino</td>\n",
       "      <td>White</td>\n",
       "      <td>0</td>\n",
       "      <td>27</td>\n",
       "      <td>False</td>\n",
       "      <td>3,3</td>\n",
       "    </tr>\n",
       "    <tr>\n",
       "      <th>2</th>\n",
       "      <td>73.7</td>\n",
       "      <td>Male</td>\n",
       "      <td>16</td>\n",
       "      <td>Not Hisp/Latino</td>\n",
       "      <td>White</td>\n",
       "      <td>0</td>\n",
       "      <td>29</td>\n",
       "      <td>True</td>\n",
       "      <td>3,3</td>\n",
       "    </tr>\n",
       "    <tr>\n",
       "      <th>3</th>\n",
       "      <td>80.4</td>\n",
       "      <td>Female</td>\n",
       "      <td>13</td>\n",
       "      <td>Not Hisp/Latino</td>\n",
       "      <td>White</td>\n",
       "      <td>0</td>\n",
       "      <td>25</td>\n",
       "      <td>True</td>\n",
       "      <td>3,3</td>\n",
       "    </tr>\n",
       "    <tr>\n",
       "      <th>4</th>\n",
       "      <td>73.9</td>\n",
       "      <td>Female</td>\n",
       "      <td>12</td>\n",
       "      <td>Not Hisp/Latino</td>\n",
       "      <td>White</td>\n",
       "      <td>1</td>\n",
       "      <td>24</td>\n",
       "      <td>True</td>\n",
       "      <td>3,4</td>\n",
       "    </tr>\n",
       "  </tbody>\n",
       "</table>\n",
       "</div>"
      ],
      "text/plain": [
       "    AGE PTGENDER  PTEDUCAT         PTETHCAT PTRACCAT  APOE4  MMSE  \\\n",
       "0  81.3     Male        18  Not Hisp/Latino    White      1    20   \n",
       "1  67.5     Male        10      Hisp/Latino    White      0    27   \n",
       "2  73.7     Male        16  Not Hisp/Latino    White      0    29   \n",
       "3  80.4   Female        13  Not Hisp/Latino    White      0    25   \n",
       "4  73.9   Female        12  Not Hisp/Latino    White      1    24   \n",
       "\n",
       "  imputed_genotype APOE Genotype  \n",
       "0             True           3,4  \n",
       "1            False           3,3  \n",
       "2             True           3,3  \n",
       "3             True           3,3  \n",
       "4             True           3,4  "
      ]
     },
     "execution_count": 6,
     "metadata": {},
     "output_type": "execute_result"
    }
   ],
   "source": [
    "X = data\n",
    "Y = data['DX.bl']\n",
    "del data\n",
    "\n",
    "#Remove unnecessary columns (features), remove first 9 columns and 'Dx codes for submission'\n",
    "remove_columns = list(X.columns)[0:9]\n",
    "remove_columns.append('Dx Codes for Submission')\n",
    "print('Removing columns:', remove_columns)\n",
    "\n",
    "X = X.drop(remove_columns, axis=1)\n",
    "\n",
    "features = list(X.columns)\n",
    "X.head()"
   ]
  },
  {
   "cell_type": "markdown",
   "id": "9c20d08e",
   "metadata": {},
   "source": [
    "## Exploratory Data Analysis (EDA)"
   ]
  },
  {
   "cell_type": "code",
   "execution_count": 7,
   "id": "7422f322",
   "metadata": {},
   "outputs": [
    {
     "name": "stdout",
     "output_type": "stream",
     "text": [
      "Categorical variable distributions:\n",
      "\n",
      "\n",
      "Distribution of PTRACCAT\n",
      "White    583\n",
      "Black     31\n",
      "Asian     13\n",
      "Name: PTRACCAT, dtype: int64\n",
      "\n",
      "Distribution of imputed_genotype\n",
      "True     466\n",
      "False    161\n",
      "Name: imputed_genotype, dtype: int64\n",
      "\n",
      "Distribution of PTGENDER\n",
      "Male      363\n",
      "Female    264\n",
      "Name: PTGENDER, dtype: int64\n",
      "\n",
      "Distribution of APOE Genotype\n",
      "3,3    275\n",
      "3,4    221\n",
      "4,4     71\n",
      "2,3     45\n",
      "2,4     13\n",
      "2,2      2\n",
      "Name: APOE Genotype, dtype: int64\n",
      "\n",
      "Distribution of APOE4\n",
      "0    322\n",
      "1    234\n",
      "2     71\n",
      "Name: APOE4, dtype: int64\n",
      "\n",
      "Distribution of PTETHCAT\n",
      "Not Hisp/Latino    616\n",
      "Hisp/Latino          8\n",
      "Unknown              3\n",
      "Name: PTETHCAT, dtype: int64\n"
     ]
    }
   ],
   "source": [
    "numerical_vars = ['AGE', 'MMSE', 'PTEDUCAT']\n",
    "cat_vars = list(set(features) - set(numerical_vars))\n",
    "\n",
    "print('Categorical variable distributions:\\n')\n",
    "\n",
    "for var in cat_vars:\n",
    "    print('\\nDistribution of', var)\n",
    "    \n",
    "    print(X[var].value_counts())"
   ]
  },
  {
   "cell_type": "markdown",
   "id": "61e43efb",
   "metadata": {},
   "source": [
    "### Categorical Var Distribution Notes\n",
    "- Ethnicity and Race are separate vars\n",
    "- Distribution of Hispanic, Black, White, Asian not quite same as overall American ethnic/racial distribution\n",
    "- APOE Genotype with 3 in the first spot seems to be overwhelming majority 3,3 and 3,4\n",
    "- More males in study than females\n",
    "### Numerical Variable Distributions\n",
    "- All 3 distributions seem a bit right-skewed\n",
    "- Age: mean = 75, min=55, max=89 - seems to be no obvious bad data\n",
    "- MMSE: mean = 26.9, min=20, max=30 - seems to be no obvious bad data, NOTE: MMSE \n",
    "- PTEDUCAT: mean = 15.6, min=6, max=20 - seems to be no obvious bad data. 13-14 yrs is probably high school/GED and 17- 18 years is likely Bachelor's degree"
   ]
  },
  {
   "cell_type": "code",
   "execution_count": 8,
   "id": "c44d2830",
   "metadata": {},
   "outputs": [
    {
     "name": "stdout",
     "output_type": "stream",
     "text": [
      "Numerical Var Distributions:\n",
      "\n"
     ]
    },
    {
     "data": {
      "image/png": "[encoded data removed]",
      "text/plain": [
       "<Figure size 800x600 with 1 Axes>"
      ]
     },
     "metadata": {},
     "output_type": "display_data"
    },
    {
     "name": "stdout",
     "output_type": "stream",
     "text": [
      "count    627.000000\n",
      "mean      75.161882\n",
      "std        6.689979\n",
      "min       55.100000\n",
      "25%       71.200000\n",
      "50%       75.400000\n",
      "75%       80.000000\n",
      "max       89.600000\n",
      "Name: AGE, dtype: float64\n"
     ]
    },
    {
     "data": {
      "image/png": "[encoded data removed]",
      "text/plain": [
       "<Figure size 800x600 with 1 Axes>"
      ]
     },
     "metadata": {},
     "output_type": "display_data"
    },
    {
     "name": "stdout",
     "output_type": "stream",
     "text": [
      "count    627.000000\n",
      "mean      26.921850\n",
      "std        2.563934\n",
      "min       20.000000\n",
      "25%       25.000000\n",
      "50%       27.000000\n",
      "75%       29.000000\n",
      "max       30.000000\n",
      "Name: MMSE, dtype: float64\n"
     ]
    },
    {
     "data": {
      "image/png": "[encoded data removed]",
      "text/plain": [
       "<Figure size 800x600 with 1 Axes>"
      ]
     },
     "metadata": {},
     "output_type": "display_data"
    },
    {
     "name": "stdout",
     "output_type": "stream",
     "text": [
      "count    627.000000\n",
      "mean      15.612440\n",
      "std        2.978845\n",
      "min        6.000000\n",
      "25%       13.000000\n",
      "50%       16.000000\n",
      "75%       18.000000\n",
      "max       20.000000\n",
      "Name: PTEDUCAT, dtype: float64\n"
     ]
    }
   ],
   "source": [
    "import seaborn as sns\n",
    "from matplotlib import pyplot as plt\n",
    "%matplotlib inline\n",
    "\n",
    "print('Numerical Var Distributions:\\n')\n",
    "\n",
    "for var in numerical_vars:\n",
    "    plt.figure(figsize=(8, 6))\n",
    "    sns.histplot(data=X, x=var, bins=10, kde=True)\n",
    "    plt.title(var + ' Distribution')\n",
    "    plt.show()\n",
    "    \n",
    "    # descriptive stats\n",
    "    print(X[var].describe())\n"
   ]
  },
  {
   "cell_type": "markdown",
   "id": "3f0155b8",
   "metadata": {},
   "source": [
    "### Analyze target (y) distribution\n",
    "- High number (304) of limited impairment (LMCI). Maybe old age? Or the patients being evaluated are not random elderly patients but patients already known to have cognitive issues."
   ]
  },
  {
   "cell_type": "code",
   "execution_count": 9,
   "id": "56183266",
   "metadata": {},
   "outputs": [
    {
     "data": {
      "image/png": "[encoded data removed]",
      "text/plain": [
       "<Figure size 640x480 with 1 Axes>"
      ]
     },
     "metadata": {},
     "output_type": "display_data"
    }
   ],
   "source": [
    "import matplotlib.pyplot as plt\n",
    "\n",
    "counts = Y.value_counts()\n",
    "plt.bar(counts.index, counts.values)\n",
    "plt.show()\n"
   ]
  },
  {
   "cell_type": "markdown",
   "id": "66c71f3a",
   "metadata": {},
   "source": [
    "## Pre-processing"
   ]
  },
  {
   "cell_type": "markdown",
   "id": "08263c6b",
   "metadata": {},
   "source": [
    "Convert Categorical Variables to 1-Hot"
   ]
  },
  {
   "cell_type": "markdown",
   "id": "2a798cfe",
   "metadata": {},
   "source": [
    "- Next time use sklearn.preprocessing.OneHotEncoder"
   ]
  },
  {
   "cell_type": "code",
   "execution_count": 10,
   "id": "aeb02d72",
   "metadata": {},
   "outputs": [
    {
     "data": {
      "text/html": [
       "<div>\n",
       "<style scoped>\n",
       "    .dataframe tbody tr th:only-of-type {\n",
       "        vertical-align: middle;\n",
       "    }\n",
       "\n",
       "    .dataframe tbody tr th {\n",
       "        vertical-align: top;\n",
       "    }\n",
       "\n",
       "    .dataframe thead th {\n",
       "        text-align: right;\n",
       "    }\n",
       "</style>\n",
       "<table border=\"1\" class=\"dataframe\">\n",
       "  <thead>\n",
       "    <tr style=\"text-align: right;\">\n",
       "      <th></th>\n",
       "      <th>AGE</th>\n",
       "      <th>PTEDUCAT</th>\n",
       "      <th>MMSE</th>\n",
       "      <th>PTRACCAT_0</th>\n",
       "      <th>PTRACCAT_1</th>\n",
       "      <th>PTRACCAT_2</th>\n",
       "      <th>imputed_genotype_0</th>\n",
       "      <th>imputed_genotype_1</th>\n",
       "      <th>PTGENDER_0</th>\n",
       "      <th>PTGENDER_1</th>\n",
       "      <th>...</th>\n",
       "      <th>APOE Genotype_2</th>\n",
       "      <th>APOE Genotype_3</th>\n",
       "      <th>APOE Genotype_4</th>\n",
       "      <th>APOE Genotype_5</th>\n",
       "      <th>APOE4_0</th>\n",
       "      <th>APOE4_1</th>\n",
       "      <th>APOE4_2</th>\n",
       "      <th>PTETHCAT_0</th>\n",
       "      <th>PTETHCAT_1</th>\n",
       "      <th>PTETHCAT_2</th>\n",
       "    </tr>\n",
       "  </thead>\n",
       "  <tbody>\n",
       "    <tr>\n",
       "      <th>0</th>\n",
       "      <td>81.3</td>\n",
       "      <td>18</td>\n",
       "      <td>20</td>\n",
       "      <td>0.0</td>\n",
       "      <td>0.0</td>\n",
       "      <td>1.0</td>\n",
       "      <td>0.0</td>\n",
       "      <td>1.0</td>\n",
       "      <td>0.0</td>\n",
       "      <td>1.0</td>\n",
       "      <td>...</td>\n",
       "      <td>0.0</td>\n",
       "      <td>0.0</td>\n",
       "      <td>1.0</td>\n",
       "      <td>0.0</td>\n",
       "      <td>0.0</td>\n",
       "      <td>1.0</td>\n",
       "      <td>0.0</td>\n",
       "      <td>0.0</td>\n",
       "      <td>1.0</td>\n",
       "      <td>0.0</td>\n",
       "    </tr>\n",
       "    <tr>\n",
       "      <th>1</th>\n",
       "      <td>67.5</td>\n",
       "      <td>10</td>\n",
       "      <td>27</td>\n",
       "      <td>0.0</td>\n",
       "      <td>0.0</td>\n",
       "      <td>1.0</td>\n",
       "      <td>1.0</td>\n",
       "      <td>0.0</td>\n",
       "      <td>0.0</td>\n",
       "      <td>1.0</td>\n",
       "      <td>...</td>\n",
       "      <td>0.0</td>\n",
       "      <td>1.0</td>\n",
       "      <td>0.0</td>\n",
       "      <td>0.0</td>\n",
       "      <td>1.0</td>\n",
       "      <td>0.0</td>\n",
       "      <td>0.0</td>\n",
       "      <td>1.0</td>\n",
       "      <td>0.0</td>\n",
       "      <td>0.0</td>\n",
       "    </tr>\n",
       "    <tr>\n",
       "      <th>2</th>\n",
       "      <td>73.7</td>\n",
       "      <td>16</td>\n",
       "      <td>29</td>\n",
       "      <td>0.0</td>\n",
       "      <td>0.0</td>\n",
       "      <td>1.0</td>\n",
       "      <td>0.0</td>\n",
       "      <td>1.0</td>\n",
       "      <td>0.0</td>\n",
       "      <td>1.0</td>\n",
       "      <td>...</td>\n",
       "      <td>0.0</td>\n",
       "      <td>1.0</td>\n",
       "      <td>0.0</td>\n",
       "      <td>0.0</td>\n",
       "      <td>1.0</td>\n",
       "      <td>0.0</td>\n",
       "      <td>0.0</td>\n",
       "      <td>0.0</td>\n",
       "      <td>1.0</td>\n",
       "      <td>0.0</td>\n",
       "    </tr>\n",
       "    <tr>\n",
       "      <th>3</th>\n",
       "      <td>80.4</td>\n",
       "      <td>13</td>\n",
       "      <td>25</td>\n",
       "      <td>0.0</td>\n",
       "      <td>0.0</td>\n",
       "      <td>1.0</td>\n",
       "      <td>0.0</td>\n",
       "      <td>1.0</td>\n",
       "      <td>1.0</td>\n",
       "      <td>0.0</td>\n",
       "      <td>...</td>\n",
       "      <td>0.0</td>\n",
       "      <td>1.0</td>\n",
       "      <td>0.0</td>\n",
       "      <td>0.0</td>\n",
       "      <td>1.0</td>\n",
       "      <td>0.0</td>\n",
       "      <td>0.0</td>\n",
       "      <td>0.0</td>\n",
       "      <td>1.0</td>\n",
       "      <td>0.0</td>\n",
       "    </tr>\n",
       "  </tbody>\n",
       "</table>\n",
       "<p>4 rows × 22 columns</p>\n",
       "</div>"
      ],
      "text/plain": [
       "    AGE  PTEDUCAT  MMSE  PTRACCAT_0  PTRACCAT_1  PTRACCAT_2  \\\n",
       "0  81.3        18    20         0.0         0.0         1.0   \n",
       "1  67.5        10    27         0.0         0.0         1.0   \n",
       "2  73.7        16    29         0.0         0.0         1.0   \n",
       "3  80.4        13    25         0.0         0.0         1.0   \n",
       "\n",
       "   imputed_genotype_0  imputed_genotype_1  PTGENDER_0  PTGENDER_1  ...  \\\n",
       "0                 0.0                 1.0         0.0         1.0  ...   \n",
       "1                 1.0                 0.0         0.0         1.0  ...   \n",
       "2                 0.0                 1.0         0.0         1.0  ...   \n",
       "3                 0.0                 1.0         1.0         0.0  ...   \n",
       "\n",
       "   APOE Genotype_2  APOE Genotype_3  APOE Genotype_4  APOE Genotype_5  \\\n",
       "0              0.0              0.0              1.0              0.0   \n",
       "1              0.0              1.0              0.0              0.0   \n",
       "2              0.0              1.0              0.0              0.0   \n",
       "3              0.0              1.0              0.0              0.0   \n",
       "\n",
       "   APOE4_0  APOE4_1  APOE4_2  PTETHCAT_0  PTETHCAT_1  PTETHCAT_2  \n",
       "0      0.0      1.0      0.0         0.0         1.0         0.0  \n",
       "1      1.0      0.0      0.0         1.0         0.0         0.0  \n",
       "2      1.0      0.0      0.0         0.0         1.0         0.0  \n",
       "3      1.0      0.0      0.0         0.0         1.0         0.0  \n",
       "\n",
       "[4 rows x 22 columns]"
      ]
     },
     "execution_count": 10,
     "metadata": {},
     "output_type": "execute_result"
    }
   ],
   "source": [
    "from sklearn.preprocessing import OneHotEncoder\n",
    "\n",
    "# instantiate the OneHotEncoder with sparse=False to return a dense array\n",
    "onehot_encoder = OneHotEncoder(sparse=False)\n",
    "\n",
    "# apply OneHotEncoder to each categorical variable\n",
    "for var in cat_vars:\n",
    "    # fit and transform the OneHotEncoder on the variable\n",
    "    onehot_encoded = onehot_encoder.fit_transform(X[[var]])\n",
    "    \n",
    "    # create column names for the new one-hot encoded columns\n",
    "    col_names = [var + '_' + str(i) for i in range(onehot_encoded.shape[1])]\n",
    "    \n",
    "    # add the new one-hot encoded columns to the original dataframe\n",
    "    X[col_names] = onehot_encoded\n",
    "    \n",
    "    # drop the original categorical column\n",
    "    X = X.drop(var, axis=1)\n",
    "\n",
    "X.head(4)"
   ]
  },
  {
   "cell_type": "code",
   "execution_count": 11,
   "id": "ed366ec0",
   "metadata": {},
   "outputs": [],
   "source": [
    "def normalize(X):\n",
    "    \"\"\"\n",
    "    Normalize numerical variables for faster and better convergence\n",
    "    \n",
    "    Args:\n",
    "        X (pd.DataFrame): data\n",
    "        \n",
    "    Returns:\n",
    "        X (pd.DataFrame): same data but with normalized numerical features\n",
    "    \"\"\"\n",
    "    numerical_vars = X.select_dtypes(include='number').columns.tolist()\n",
    "\n",
    "    #Normalize numerical variables to speed up convergence\n",
    "    for var in numerical_vars:\n",
    "        mean = X[var].mean()\n",
    "        sd = X[var].std()\n",
    "        print('\\nNormalizing', var, 'with mean=', format(mean, '.2f'), 'and sd=', format(sd, '.2f'))\n",
    "\n",
    "        X[var] = (X[var] - mean) / sd\n",
    "\n",
    "    return X\n"
   ]
  },
  {
   "cell_type": "code",
   "execution_count": 12,
   "id": "23301f6f",
   "metadata": {},
   "outputs": [
    {
     "name": "stdout",
     "output_type": "stream",
     "text": [
      "X_train: (438, 22) \ty_train: (438,)\n",
      "X_test: (189, 22) \ty_test: (189,)\n"
     ]
    }
   ],
   "source": [
    "import numpy as np\n",
    "\n",
    "# Combine X and Y into one numpy array\n",
    "data = np.column_stack((X, Y))\n",
    "\n",
    "# Shuffle the data\n",
    "np.random.shuffle(data)\n",
    "\n",
    "# Split the data into training and testing sets\n",
    "split_idx = int(0.7 * len(data))\n",
    "train_data = data[:split_idx]\n",
    "test_data = data[split_idx:]\n",
    "\n",
    "# Separate X and Y from the training and testing sets\n",
    "X_train, y_train = train_data[:, :-1], train_data[:, -1]\n",
    "X_test, y_test = test_data[:, :-1], test_data[:, -1]\n",
    "\n",
    "print('X_train:', X_train.shape, '\\ty_train:', y_train.shape)\n",
    "print('X_test:', X_test.shape, '\\ty_test:', y_test.shape)\n",
    "num_test = X_test.shape[0]\n"
   ]
  },
  {
   "cell_type": "markdown",
   "id": "a22c8c15",
   "metadata": {},
   "source": [
    "## Predicting model using different Algorithms "
   ]
  },
  {
   "cell_type": "markdown",
   "id": "40dd5a6f",
   "metadata": {},
   "source": [
    "### Logistic Regression"
   ]
  },
  {
   "cell_type": "code",
   "execution_count": 13,
   "id": "891cf9e8",
   "metadata": {},
   "outputs": [
    {
     "name": "stdout",
     "output_type": "stream",
     "text": [
      "Accuracy: 0.7407407407407407\n"
     ]
    }
   ],
   "source": [
    "from sklearn.linear_model import LogisticRegression\n",
    "\n",
    "# create the classifier\n",
    "log_clf = LogisticRegression(solver='lbfgs', penalty='l2', max_iter=1000000, multi_class='multinomial')\n",
    "\n",
    "# fit the classifier on the training data\n",
    "log_clf.fit(X_train, y_train)\n",
    "\n",
    "# make predictions on the test data\n",
    "y_pred = log_clf.predict(X_test)\n",
    "\n",
    "# evaluate the classifier's accuracy\n",
    "from sklearn.metrics import accuracy_score\n",
    "print('Accuracy:', accuracy_score(y_test, y_pred))\n"
   ]
  },
  {
   "cell_type": "markdown",
   "id": "539efe59",
   "metadata": {},
   "source": [
    "### Decision Tree"
   ]
  },
  {
   "cell_type": "code",
   "execution_count": 14,
   "id": "47c3fb8d",
   "metadata": {},
   "outputs": [
    {
     "name": "stdout",
     "output_type": "stream",
     "text": [
      "Accuracy: 0.5978835978835979\n"
     ]
    }
   ],
   "source": [
    "from sklearn.tree import DecisionTreeClassifier\n",
    "\n",
    "# create the classifier\n",
    "dt_clf = DecisionTreeClassifier(random_state=42)\n",
    "\n",
    "# fit the classifier on the training data\n",
    "dt_clf.fit(X_train, y_train)\n",
    "\n",
    "# make predictions on the test data\n",
    "y_pred = dt_clf.predict(X_test)\n",
    "\n",
    "# evaluate the classifier's accuracy\n",
    "from sklearn.metrics import accuracy_score\n",
    "print('Accuracy:', accuracy_score(y_test, y_pred))\n"
   ]
  },
  {
   "cell_type": "markdown",
   "id": "6982d540",
   "metadata": {},
   "source": [
    "### Random Forest"
   ]
  },
  {
   "cell_type": "code",
   "execution_count": 15,
   "id": "96bcb5c9",
   "metadata": {},
   "outputs": [
    {
     "name": "stdout",
     "output_type": "stream",
     "text": [
      "Accuracy: 0.6931216931216931\n"
     ]
    }
   ],
   "source": [
    "from sklearn.ensemble import RandomForestClassifier\n",
    "\n",
    "# create the classifier\n",
    "rf_clf = RandomForestClassifier(random_state=42)\n",
    "\n",
    "# fit the classifier on the training data\n",
    "rf_clf.fit(X_train, y_train)\n",
    "\n",
    "# make predictions on the test data\n",
    "y_pred = rf_clf.predict(X_test)\n",
    "\n",
    "# evaluate the classifier's accuracy\n",
    "from sklearn.metrics import accuracy_score\n",
    "print('Accuracy:', accuracy_score(y_test, y_pred))\n"
   ]
  },
  {
   "cell_type": "markdown",
   "id": "b695372a",
   "metadata": {},
   "source": [
    "### Support Vector Machines (SVMs)"
   ]
  },
  {
   "cell_type": "code",
   "execution_count": 16,
   "id": "43d7cbcc",
   "metadata": {},
   "outputs": [
    {
     "name": "stdout",
     "output_type": "stream",
     "text": [
      "Accuracy: 0.6984126984126984\n"
     ]
    }
   ],
   "source": [
    "from sklearn.svm import SVC\n",
    "\n",
    "# create the classifier\n",
    "svm_clf = SVC(kernel='linear', C=1)\n",
    "\n",
    "# fit the classifier on the training data\n",
    "svm_clf.fit(X_train, y_train)\n",
    "\n",
    "# make predictions on the test data\n",
    "y_pred = svm_clf.predict(X_test)\n",
    "\n",
    "# evaluate the classifier's accuracy\n",
    "from sklearn.metrics import accuracy_score\n",
    "print('Accuracy:', accuracy_score(y_test, y_pred))\n"
   ]
  },
  {
   "cell_type": "markdown",
   "id": "43e5be47",
   "metadata": {},
   "source": [
    "### K-Nearest Neighbors (KNN)"
   ]
  },
  {
   "cell_type": "code",
   "execution_count": 17,
   "id": "b36816d9",
   "metadata": {},
   "outputs": [
    {
     "name": "stdout",
     "output_type": "stream",
     "text": [
      "Accuracy: 0.6243386243386243\n"
     ]
    },
    {
     "name": "stderr",
     "output_type": "stream",
     "text": [
      "C:\\Users\\Koushik Reddy\\anaconda3\\lib\\site-packages\\sklearn\\neighbors\\_classification.py:228: FutureWarning: Unlike other reduction functions (e.g. `skew`, `kurtosis`), the default behavior of `mode` typically preserves the axis it acts along. In SciPy 1.11.0, this behavior will change: the default value of `keepdims` will become False, the `axis` over which the statistic is taken will be eliminated, and the value None will no longer be accepted. Set `keepdims` to True or False to avoid this warning.\n",
      "  mode, _ = stats.mode(_y[neigh_ind, k], axis=1)\n"
     ]
    }
   ],
   "source": [
    "from sklearn.neighbors import KNeighborsClassifier\n",
    "\n",
    "# create the classifier\n",
    "knn_clf = KNeighborsClassifier(n_neighbors=3)\n",
    "\n",
    "# fit the classifier on the training data\n",
    "knn_clf.fit(X_train, y_train)\n",
    "\n",
    "# make predictions on the test data\n",
    "y_pred = knn_clf.predict(X_test)\n",
    "\n",
    "# evaluate the classifier's accuracy\n",
    "from sklearn.metrics import accuracy_score\n",
    "print('Accuracy:', accuracy_score(y_test, y_pred))\n"
   ]
  },
  {
   "cell_type": "markdown",
   "id": "8ff7b557",
   "metadata": {},
   "source": [
    "### Naive Bayes"
   ]
  },
  {
   "cell_type": "code",
   "execution_count": 18,
   "id": "2cea1b38",
   "metadata": {},
   "outputs": [
    {
     "name": "stdout",
     "output_type": "stream",
     "text": [
      "Accuracy: 0.3333333333333333\n"
     ]
    }
   ],
   "source": [
    "from sklearn.naive_bayes import GaussianNB\n",
    "\n",
    "# create the classifier\n",
    "nb_clf = GaussianNB()\n",
    "\n",
    "# fit the classifier on the training data\n",
    "nb_clf.fit(X_train, y_train)\n",
    "\n",
    "# make predictions on the test data\n",
    "y_pred = nb_clf.predict(X_test)\n",
    "\n",
    "# evaluate the classifier's accuracy\n",
    "from sklearn.metrics import accuracy_score\n",
    "print('Accuracy:', accuracy_score(y_test, y_pred))\n"
   ]
  },
  {
   "cell_type": "markdown",
   "id": "e9af0081",
   "metadata": {},
   "source": [
    "### Gradient Boosting"
   ]
  },
  {
   "cell_type": "code",
   "execution_count": 19,
   "id": "751944e1",
   "metadata": {},
   "outputs": [
    {
     "name": "stdout",
     "output_type": "stream",
     "text": [
      "Accuracy: 0.7142857142857143\n"
     ]
    }
   ],
   "source": [
    "from sklearn.ensemble import GradientBoostingClassifier\n",
    "\n",
    "# create the classifier\n",
    "gb_clf = GradientBoostingClassifier(random_state=42)\n",
    "\n",
    "# fit the classifier on the training data\n",
    "gb_clf.fit(X_train, y_train)\n",
    "\n",
    "# make predictions on the test data\n",
    "y_pred = gb_clf.predict(X_test)\n",
    "\n",
    "# evaluate the classifier's accuracy\n",
    "from sklearn.metrics import accuracy_score\n",
    "print('Accuracy:', accuracy_score(y_test, y_pred))\n"
   ]
  },
  {
   "cell_type": "markdown",
   "id": "e17d1afc",
   "metadata": {},
   "source": [
    "## Accuracy of all the models we used"
   ]
  },
  {
   "cell_type": "code",
   "execution_count": 20,
   "id": "863166c0",
   "metadata": {},
   "outputs": [
    {
     "name": "stdout",
     "output_type": "stream",
     "text": [
      "Accuracy of LogisticRegression: 0.5873015873015873\n",
      "Accuracy of DecisionTreeClassifier: 0.5978835978835979\n"
     ]
    },
    {
     "name": "stderr",
     "output_type": "stream",
     "text": [
      "C:\\Users\\Koushik Reddy\\anaconda3\\lib\\site-packages\\sklearn\\linear_model\\_logistic.py:814: ConvergenceWarning: lbfgs failed to converge (status=1):\n",
      "STOP: TOTAL NO. of ITERATIONS REACHED LIMIT.\n",
      "\n",
      "Increase the number of iterations (max_iter) or scale the data as shown in:\n",
      "    https://scikit-learn.org/stable/modules/preprocessing.html\n",
      "Please also refer to the documentation for alternative solver options:\n",
      "    https://scikit-learn.org/stable/modules/linear_model.html#logistic-regression\n",
      "  n_iter_i = _check_optimize_result(\n"
     ]
    },
    {
     "name": "stdout",
     "output_type": "stream",
     "text": [
      "Accuracy of RandomForestClassifier: 0.6666666666666666\n",
      "Accuracy of SVC: 0.4656084656084656\n",
      "Accuracy of KNeighborsClassifier: 0.6455026455026455\n",
      "Accuracy of GaussianNB: 0.3333333333333333\n"
     ]
    },
    {
     "name": "stderr",
     "output_type": "stream",
     "text": [
      "C:\\Users\\Koushik Reddy\\anaconda3\\lib\\site-packages\\sklearn\\neighbors\\_classification.py:228: FutureWarning: Unlike other reduction functions (e.g. `skew`, `kurtosis`), the default behavior of `mode` typically preserves the axis it acts along. In SciPy 1.11.0, this behavior will change: the default value of `keepdims` will become False, the `axis` over which the statistic is taken will be eliminated, and the value None will no longer be accepted. Set `keepdims` to True or False to avoid this warning.\n",
      "  mode, _ = stats.mode(_y[neigh_ind, k], axis=1)\n"
     ]
    },
    {
     "name": "stdout",
     "output_type": "stream",
     "text": [
      "Accuracy of GradientBoostingClassifier: 0.7142857142857143\n"
     ]
    }
   ],
   "source": [
    "classifiers = [LogisticRegression(), DecisionTreeClassifier(), RandomForestClassifier(), SVC(), KNeighborsClassifier(), GaussianNB(), GradientBoostingClassifier()]\n",
    "\n",
    "\n",
    "for clf in classifiers:\n",
    "    clf.fit(X_train, y_train)\n",
    "    y_pred = clf.predict(X_test)\n",
    "    acc = accuracy_score(y_test, y_pred)\n",
    "    print(f\"Accuracy of {clf.__class__.__name__}: {acc}\")\n"
   ]
  },
  {
   "cell_type": "code",
   "execution_count": null,
   "id": "97ecc846",
   "metadata": {},
   "outputs": [],
   "source": []
  }
 ],
 "metadata": {
  "kernelspec": {
   "display_name": "Python 3 (ipykernel)",
   "language": "python",
   "name": "python3"
  },
  "language_info": {
   "codemirror_mode": {
    "name": "ipython",
    "version": 3
   },
   "file_extension": ".py",
   "mimetype": "text/x-python",
   "name": "python",
   "nbconvert_exporter": "python",
   "pygments_lexer": "ipython3",
   "version": "3.9.13"
  }
 },
 "nbformat": 4,
 "nbformat_minor": 5
}
